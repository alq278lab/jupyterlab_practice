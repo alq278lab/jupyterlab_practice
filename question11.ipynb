{
 "cells": [
  {
   "cell_type": "markdown",
   "id": "e5b55229-c9da-4b68-b5c6-faffe08ac9df",
   "metadata": {},
   "source": [
    "# Allan Quiapo\n",
    "Notebook for assignment 7"
   ]
  },
  {
   "cell_type": "code",
   "execution_count": 1,
   "id": "f72a79ed-21af-4b3d-b80b-41710379abdd",
   "metadata": {
    "tags": []
   },
   "outputs": [
    {
     "name": "stdout",
     "output_type": "stream",
     "text": [
      "5.0\n"
     ]
    }
   ],
   "source": [
    "def compute_mean(*args):\n",
    "  var = 0\n",
    "  cnt = 0\n",
    "  for i in args:\n",
    "    cnt = cnt + 1  \n",
    "    var = var + i\n",
    "  print(var/cnt)      \n",
    "var1 = compute_mean(2, 4, 6, 8)"
   ]
  },
  {
   "cell_type": "markdown",
   "id": "5982eed1-2d17-44ae-be85-c9cb0300f990",
   "metadata": {},
   "source": [
    "$$\n",
    "\\bar{x} = \\frac{\\chi_1 + \\chi_2 + ... + \\chi_n}{n} = \\frac{1}{n}\\left(\\sum\\limits_{i=1}^n\\chi_i\\right)\n",
    "$$"
   ]
  }
 ],
 "metadata": {
  "kernelspec": {
   "display_name": "Python 3 (ipykernel)",
   "language": "python",
   "name": "python3"
  },
  "language_info": {
   "codemirror_mode": {
    "name": "ipython",
    "version": 3
   },
   "file_extension": ".py",
   "mimetype": "text/x-python",
   "name": "python",
   "nbconvert_exporter": "python",
   "pygments_lexer": "ipython3",
   "version": "3.11.5"
  }
 },
 "nbformat": 4,
 "nbformat_minor": 5
}
